{
 "cells": [
  {
   "cell_type": "code",
   "execution_count": 1,
   "metadata": {},
   "outputs": [
    {
     "data": {
      "text/plain": [
       "15"
      ]
     },
     "execution_count": 1,
     "metadata": {},
     "output_type": "execute_result"
    }
   ],
   "source": [
    "n=5\n",
    "m=10\n",
    "total=n+m\n",
    "total"
   ]
  },
  {
   "cell_type": "code",
   "execution_count": 14,
   "metadata": {},
   "outputs": [
    {
     "data": {
      "text/plain": [
       "7.7170000000000005"
      ]
     },
     "execution_count": 14,
     "metadata": {},
     "output_type": "execute_result"
    }
   ],
   "source": [
    "#使用input(), 請使用者自行輸入值\n",
    "n = eval(input(\"請輸入n的值:\"))\n",
    "m = eval(input(\"請輸入m的值\"))\n",
    "total = n + m\n",
    "print(n, \"+\", m,\"=\", total)"
   ]
  },
  {
   "cell_type": "code",
   "execution_count": 13,
   "metadata": {},
   "outputs": [
    {
     "name": "stdout",
     "output_type": "stream",
     "text": [
      "3\n",
      "3 5 ab 3.145\n"
     ]
    }
   ],
   "source": [
    "#1個引數值\n",
    "print(3)\n",
    "#2個引數值\n",
    "print(3, \"5\",\"ab\", 3.145)"
   ]
  },
  {
   "cell_type": "code",
   "execution_count": 17,
   "metadata": {},
   "outputs": [
    {
     "name": "stdout",
     "output_type": "stream",
     "text": [
      "3.145678+5.98765=9.13\n"
     ]
    }
   ],
   "source": [
    "#使用input(), 請使用者自行輸入值\n",
    "n = eval(input(\"請輸入n的值:\"))\n",
    "m = eval(input(\"請輸入m的值\"))\n",
    "total = n + m\n",
    "print(f\"{n}+{m}={total:.2f}\")"
   ]
  }
 ],
 "metadata": {
  "kernelspec": {
   "display_name": "Python 3",
   "language": "python",
   "name": "python3"
  },
  "language_info": {
   "codemirror_mode": {
    "name": "ipython",
    "version": 3
   },
   "file_extension": ".py",
   "mimetype": "text/x-python",
   "name": "python",
   "nbconvert_exporter": "python",
   "pygments_lexer": "ipython3",
   "version": "3.10.13"
  }
 },
 "nbformat": 4,
 "nbformat_minor": 2
}
